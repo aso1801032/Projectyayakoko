{
 "cells": [
  {
   "cell_type": "code",
   "execution_count": 1,
   "metadata": {},
   "outputs": [
    {
     "data": {
      "text/html": [
       "<div>\n",
       "<style scoped>\n",
       "    .dataframe tbody tr th:only-of-type {\n",
       "        vertical-align: middle;\n",
       "    }\n",
       "\n",
       "    .dataframe tbody tr th {\n",
       "        vertical-align: top;\n",
       "    }\n",
       "\n",
       "    .dataframe thead th {\n",
       "        text-align: right;\n",
       "    }\n",
       "</style>\n",
       "<table border=\"1\" class=\"dataframe\">\n",
       "  <thead>\n",
       "    <tr style=\"text-align: right;\">\n",
       "      <th></th>\n",
       "      <th>0</th>\n",
       "    </tr>\n",
       "  </thead>\n",
       "  <tbody>\n",
       "    <tr>\n",
       "      <th>0</th>\n",
       "      <td>ないこともないはずだ</td>\n",
       "    </tr>\n",
       "  </tbody>\n",
       "</table>\n",
       "</div>"
      ],
      "text/plain": [
       "            0\n",
       "0  ないこともないはずだ"
      ]
     },
     "execution_count": 1,
     "metadata": {},
     "output_type": "execute_result"
    }
   ],
   "source": [
    "import pandas as pd\n",
    "import numpy as np\n",
    "import os\n",
    "import glob\n",
    "import pathlib\n",
    "import re\n",
    "import janome\n",
    "import jaconv\n",
    "\n",
    "#dicというディレクトリにダウンロードしてきた極性辞書を入れておく\n",
    "#極性辞書をDBにアップロード＆保存しておく\n",
    "p_dic = pathlib.Path('dic')\n",
    "\n",
    "#(*.txt)をデータベースから評価極性辞書を持ってくるように変更\n",
    "for i in glob.glob('dic/*.txt'):\n",
    "    with open (i, 'r', encoding = 'UTF-8') as f:\n",
    "        #単語・読み仮名・品詞・スコアに分割してリストとして格納\n",
    "        x = [ii.replace('\\n', '').split(':') for ii in  f.readlines()]\n",
    "\n",
    "posi_nega_df = pd.DataFrame(x, columns = ['基本形', '読み', '品詞', 'スコア'])\n",
    "#jaconvを使って読み仮名を全てカタカナに変換\n",
    "posi_nega_df['読み'] = posi_nega_df['読み'].apply(lambda x : jaconv.hira2kata(x))\n",
    "#なぜか読みや品詞まで同じなのに、異なるスコアが割り当てられていたものがあったので重複を削除\n",
    "posi_nega_df = posi_nega_df[~posi_nega_df[['基本形', '読み', '品詞']].duplicated()]\n",
    "\n",
    "\n",
    "p_temp = pathlib.Path('testtext')\n",
    "\n",
    "article_list = []\n",
    "\n",
    "#フォルダ内のテキストファイルを全てサーチ\n",
    "#('text/**/*.txt')をスレッド内の書き込みに対して読み込むように変更\n",
    "for i in glob.glob(\"dictext/2.txt\"):#読み込む文字列\n",
    "    with open(i, 'r',encoding=\"utf-8\") as f:\n",
    "        #テキストファイルの中身を一行ずつ読み込み、リスト形式で格納\n",
    "        article = f.read()\n",
    "        #不要な改行等を置換処理\n",
    "        article = [re.sub(r'[\\n \\u3000]', '', i) for i in article]\n",
    "        #ニュースサイト名・記事URL・日付・記事タイトル・本文の並びでリスト化\n",
    "    article_list.append([''.join(article[0:])])\n",
    "        \n",
    "article_df = pd.DataFrame(article_list)\n",
    "\n",
    "article_df.head()"
   ]
  },
  {
   "cell_type": "code",
   "execution_count": 2,
   "metadata": {},
   "outputs": [],
   "source": [
    "news_df = article_df[0:].reset_index(drop = True)\n",
    "\n",
    "from janome.tokenizer import Tokenizer\n",
    "from janome.analyzer import Analyzer\n",
    "from janome.charfilter import *\n",
    "import numpy as np\n",
    "\n",
    "t = Tokenizer('neologd')\n",
    "char_filters = [UnicodeNormalizeCharFilter()]\n",
    "analyzer = Analyzer(char_filters, t)\n",
    "\n",
    "word_lists = []\n",
    "words = []\n",
    "for i, row in news_df.iterrows():\n",
    "    for t in analyzer.analyze(row[0]):\n",
    "        #形態素\n",
    "        surf = t.surface\n",
    "        words.append([surf])\n",
    "        #基本形\n",
    "        base = t.base_form\n",
    "        #品詞\n",
    "        pos = t.part_of_speech\n",
    "        #読み\n",
    "        reading = t.reading\n",
    "\n",
    "        word_lists.append([surf])\n",
    "\n",
    "word_df = pd.DataFrame(word_lists, columns = ['単語'])\n",
    "score_result = word_df\n"
   ]
  },
  {
   "cell_type": "code",
   "execution_count": 3,
   "metadata": {},
   "outputs": [
    {
     "name": "stdout",
     "output_type": "stream",
     "text": [
      "            0\n",
      "0  ないこともないはずだ\n",
      "            0\n",
      "0  ■ことも■はずだ\n",
      "■ことも■はずだ\n",
      "■こと■■はずだ\n",
      "■こと■■はずだ\n"
     ]
    }
   ],
   "source": [
    "for i in glob.glob(\"dictext/1.txt\"):#辞書読み込み\n",
    "    with open (i, 'r', encoding = 'UTF-8') as f:\n",
    "        #単語・読み仮名・品詞・スコアに分割してリストとして格納\n",
    "        doc = [ii.replace('\\n', '').split(':') for ii in  f.readlines()]\n",
    "\n",
    "re = []\n",
    "output = []\n",
    "\n",
    "#形態素解析前の文章を用意、解析後の文章が一致したときにreplace\n",
    "t = str(score_result[\"単語\"])\n",
    "text = str(article_df)\n",
    "print(text)\n",
    "for d in doc:\n",
    "    d = str(d)\n",
    "    for w in words:\n",
    "        w = str(w)\n",
    "        if(w == d):\n",
    "            dd = d\n",
    "            dd = dd.replace(\"'\",\"\")\n",
    "            dd = dd.replace(\"[\",\"\")\n",
    "            dd = dd.replace(\"]\",\"\")\n",
    "            print(text.replace(dd,\"■\"))#〇に置換\n",
    "            text = text.replace(dd,\"■\").replace(\"0\",\"\").replace(\" \",\"\").replace(\"\\n\",\"\")\n",
    "            \n",
    "#print(re[0:])\n",
    "#return re\n",
    "#print(text)\n",
    "return text"
   ]
  },
  {
   "cell_type": "code",
   "execution_count": null,
   "metadata": {},
   "outputs": [],
   "source": []
  },
  {
   "cell_type": "code",
   "execution_count": null,
   "metadata": {},
   "outputs": [],
   "source": []
  },
  {
   "cell_type": "code",
   "execution_count": null,
   "metadata": {},
   "outputs": [],
   "source": []
  },
  {
   "cell_type": "code",
   "execution_count": null,
   "metadata": {},
   "outputs": [],
   "source": []
  },
  {
   "cell_type": "code",
   "execution_count": null,
   "metadata": {},
   "outputs": [],
   "source": []
  },
  {
   "cell_type": "code",
   "execution_count": null,
   "metadata": {},
   "outputs": [],
   "source": []
  },
  {
   "cell_type": "code",
   "execution_count": null,
   "metadata": {},
   "outputs": [],
   "source": []
  },
  {
   "cell_type": "code",
   "execution_count": null,
   "metadata": {},
   "outputs": [],
   "source": []
  }
 ],
 "metadata": {
  "kernelspec": {
   "display_name": "Python 3",
   "language": "python",
   "name": "python3"
  },
  "language_info": {
   "codemirror_mode": {
    "name": "ipython",
    "version": 3
   },
   "file_extension": ".py",
   "mimetype": "text/x-python",
   "name": "python",
   "nbconvert_exporter": "python",
   "pygments_lexer": "ipython3",
   "version": "3.7.7"
  }
 },
 "nbformat": 4,
 "nbformat_minor": 4
}
